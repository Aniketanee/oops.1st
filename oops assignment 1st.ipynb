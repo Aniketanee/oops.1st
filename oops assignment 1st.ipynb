{
 "cells": [
  {
   "cell_type": "markdown",
   "id": "3f3acd7b-2512-4815-8875-e2e733e86379",
   "metadata": {},
   "source": [
    "Assignment - 1"
   ]
  },
  {
   "cell_type": "markdown",
   "id": "40340a2b-bbd0-48c5-b26c-78f69e3094f6",
   "metadata": {},
   "source": [
    "Solution -1"
   ]
  },
  {
   "cell_type": "code",
   "execution_count": 30,
   "id": "984a7198-6347-41f9-84cf-e658d5a902f5",
   "metadata": {},
   "outputs": [
    {
     "name": "stdout",
     "output_type": "stream",
     "text": [
      "Car - Max Speed: 180 km/h, Average Speed: 60 km/h\n",
      "Motorcycle - Max Speed: 150 km/h, Average Speed: 50 km/h\n"
     ]
    }
   ],
   "source": [
    "class Vehicle:\n",
    "    def __init__(self, name_of_vehicle, max_speed, average_of_vehicle):\n",
    "        self.name_of_vehicle = name_of_vehicle\n",
    "        self.max_speed = max_speed\n",
    "        self.average_of_vehicle = average_of_vehicle\n",
    "\n",
    "    def __str__(self):\n",
    "        return f\"{self.name_of_vehicle} - Max Speed: {self.max_speed} km/h, Average Speed: {self.average_of_vehicle} km/h\"\n",
    "\n",
    "\n",
    "\n",
    "if __name__ == \"__main__\":\n",
    "    vehicle1 = Vehicle(\"Car\", 180, 60)\n",
    "    vehicle2 = Vehicle(\"Motorcycle\", 150, 50)\n",
    "\n",
    "    print(vehicle1)\n",
    "    print(vehicle2)\n"
   ]
  },
  {
   "cell_type": "markdown",
   "id": "85253e83-69da-4072-87b4-1d1fce89a016",
   "metadata": {},
   "source": [
    "Solution - 2"
   ]
  },
  {
   "cell_type": "code",
   "execution_count": 55,
   "id": "3e6240e6-552d-4d68-80ac-0a05118bb973",
   "metadata": {},
   "outputs": [
    {
     "name": "stdout",
     "output_type": "stream",
     "text": [
      "Safari - Max Speed: 200 km/h, Average Speed: 80 km/h\n",
      "Safari - Seating Capacity: 7\n",
      "Scarpio - Max Speed: 180 km/h, Average Speed: 70 km/h\n",
      "Scarpio - Seating Capacity: 7\n"
     ]
    }
   ],
   "source": [
    "class Vehicle:\n",
    "    def __init__(self, name_of_vehicle, max_speed, average_of_vehicle):\n",
    "        self.name_of_vehicle = name_of_vehicle\n",
    "        self.max_speed = max_speed\n",
    "        self.average_of_vehicle = average_of_vehicle\n",
    "\n",
    "    def __str__(self):\n",
    "        return f\"{self.name_of_vehicle} - Max Speed: {self.max_speed} km/h, Average Speed: {self.average_of_vehicle} km/h\"\n",
    "\n",
    "\n",
    "class Car(Vehicle):\n",
    "    def __init__(self, name_of_vehicle, max_speed, average_of_vehicle):\n",
    "        super().__init__(name_of_vehicle, max_speed, average_of_vehicle)\n",
    "\n",
    "    def seating_capacity(self, capacity):\n",
    "        return f\"{self.name_of_vehicle} - Seating Capacity: {capacity}\"\n",
    "\n",
    "\n",
    "\n",
    "if __name__ == \"__main__\":\n",
    "    car1 = Car(\"Safari\", 200, 80)\n",
    "    car2 = Car(\"Scarpio\", 180, 70)\n",
    "\n",
    "    print(car1)\n",
    "    print(car1.seating_capacity(7))\n",
    "\n",
    "    print(car2)\n",
    "    print(car2.seating_capacity(7))\n"
   ]
  },
  {
   "cell_type": "markdown",
   "id": "14bafd5e-fabd-433a-a28c-831d6b93a91f",
   "metadata": {},
   "source": [
    "Solution - 3"
   ]
  },
  {
   "cell_type": "markdown",
   "id": "d91c96f4-5905-457b-91c9-0dac20c9b64c",
   "metadata": {},
   "source": [
    "Multiple inheritance is a feature in object-oriented programming where a class can inherit attributes and behaviors from more than one parent class. \n",
    "Below is Example\n",
    "\n"
   ]
  },
  {
   "cell_type": "code",
   "execution_count": 61,
   "id": "de760830-2c3b-4fc6-b733-35185f3ba905",
   "metadata": {},
   "outputs": [
    {
     "name": "stdout",
     "output_type": "stream",
     "text": [
      "This is method A from ClassA\n",
      "This is method B from ClassB\n",
      "This is method C from DerivedClass\n"
     ]
    }
   ],
   "source": [
    "class ClassA:\n",
    "    def method_a(self):\n",
    "        print(\"This is method A from ClassA\")\n",
    "\n",
    "\n",
    "class ClassB:\n",
    "    def method_b(self):\n",
    "        print(\"This is method B from ClassB\")\n",
    "\n",
    "\n",
    "class DerivedClass(ClassA, ClassB):\n",
    "    def method_c(self):\n",
    "        print(\"This is method C from DerivedClass\")\n",
    "\n",
    "\n",
    "if __name__ == \"__main__\":\n",
    "    obj = DerivedClass()\n",
    "    obj.method_a()\n",
    "    obj.method_b()\n",
    "    obj.method_c()\n"
   ]
  },
  {
   "cell_type": "markdown",
   "id": "5ad9d2f7-a72f-4e68-b926-b566e91c0ea3",
   "metadata": {},
   "source": [
    "Solution - 4"
   ]
  },
  {
   "cell_type": "markdown",
   "id": "89e60f29-115b-493d-bad8-a84f2a9783a7",
   "metadata": {},
   "source": [
    "Getters and setters are used to control access to the attributes of a class. They are also known as accessor and mutator methods, respectively. The main idea behind using getters and setters is to encapsulate the attributes and provide a way to interact with them indirectly, allowing for better control over the data and the ability to apply validation or computation before getting or setting the attribute."
   ]
  },
  {
   "cell_type": "code",
   "execution_count": 10,
   "id": "44a467f0-5f1d-479c-841a-2fa69f1ff78c",
   "metadata": {},
   "outputs": [
    {
     "name": "stdout",
     "output_type": "stream",
     "text": [
      "Name: Aniket, Age: 24\n",
      "Aniket\n",
      "24\n",
      "Age cannot be negative \n",
      "Name: Anee, Age: 24\n"
     ]
    }
   ],
   "source": [
    "class Person:\n",
    "    def __init__(self, name, age):\n",
    "        self._name = name\n",
    "        self._age = age\n",
    "\n",
    "    \n",
    "    def get_name(self):\n",
    "        return self._name\n",
    "\n",
    "    \n",
    "    def set_name(self, name):\n",
    "        self._name = name\n",
    "\n",
    "    \n",
    "    def get_age(self):\n",
    "        return self._age\n",
    "\n",
    "    \n",
    "    def set_age(self, age):\n",
    "        if age >= 0:\n",
    "            self._age = age\n",
    "        else:\n",
    "            print(\"Age cannot be negative \")\n",
    "\n",
    "    def __str__(self):\n",
    "        return f\"Name: {self._name}, Age: {self._age}\"\n",
    "\n",
    "\n",
    "\n",
    "if __name__ == \"__main__\":\n",
    "    person = Person(\"Aniket\", 24)\n",
    "    print(person) \n",
    "\n",
    "\n",
    "    print(person.get_name())\n",
    "    print(person.get_age())\n",
    "\n",
    "    person.set_name(\"Anee\")\n",
    "    person.set_age(-25) \n",
    "    print(person)"
   ]
  },
  {
   "cell_type": "markdown",
   "id": "f4622c2f-2271-472d-995c-42e350bb8e4a",
   "metadata": {},
   "source": [
    "Solution -5"
   ]
  },
  {
   "cell_type": "markdown",
   "id": "7d71d035-3d26-4211-9e49-338aba7ea2a6",
   "metadata": {},
   "source": [
    "Method overriding in Python is a feature of object-oriented programming that allows a subclass to provide a specific implementation for a method that is already defined in its superclass."
   ]
  },
  {
   "cell_type": "code",
   "execution_count": 23,
   "id": "27eb72a7-9ea9-4491-ad89-dde1bf436ee4",
   "metadata": {},
   "outputs": [
    {
     "name": "stdout",
     "output_type": "stream",
     "text": [
      "Dog barks: bho bho\n",
      "Dog makes a sound.\n"
     ]
    }
   ],
   "source": [
    "class Dog:\n",
    "    def make_sound(self):\n",
    "        print(\"Dog makes a sound.\")\n",
    "\n",
    "\n",
    "class Animal(Dog):\n",
    "    def make_sound(self):\n",
    "        print(\"Dog barks: bho bho\")\n",
    "\n",
    "\n",
    "if __name__ == \"__main__\":\n",
    "    animal= Animal()\n",
    "    animal.make_sound()  \n",
    "\n",
    "    dog = Dog()\n",
    "    dog.make_sound()    "
   ]
  },
  {
   "cell_type": "code",
   "execution_count": null,
   "id": "5086a22e-e19a-410c-8c15-5d45f598dbab",
   "metadata": {},
   "outputs": [],
   "source": []
  },
  {
   "cell_type": "code",
   "execution_count": null,
   "id": "b596d13f-8b58-4964-961a-6db0a363c676",
   "metadata": {},
   "outputs": [],
   "source": []
  }
 ],
 "metadata": {
  "kernelspec": {
   "display_name": "Python 3 (ipykernel)",
   "language": "python",
   "name": "python3"
  },
  "language_info": {
   "codemirror_mode": {
    "name": "ipython",
    "version": 3
   },
   "file_extension": ".py",
   "mimetype": "text/x-python",
   "name": "python",
   "nbconvert_exporter": "python",
   "pygments_lexer": "ipython3",
   "version": "3.10.8"
  }
 },
 "nbformat": 4,
 "nbformat_minor": 5
}
